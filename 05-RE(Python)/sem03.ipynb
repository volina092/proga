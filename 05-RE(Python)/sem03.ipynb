{
 "cells": [
  {
   "cell_type": "code",
   "execution_count": null,
   "metadata": {},
   "outputs": [],
   "source": [
    "import re"
   ]
  },
  {
   "cell_type": "markdown",
   "metadata": {},
   "source": [
    "#### Задача 1.\n",
    "\n",
    "Найдите в тексте все телефонные номера. Номера могут быть в формате 0(000)00-00-00 или 0 000 00 00 00."
   ]
  },
  {
   "cell_type": "code",
   "execution_count": null,
   "metadata": {},
   "outputs": [],
   "source": [
    "pattern = r'\\d[ \\(]?\\d{3}[ \\)]?(?:[ -]?\\d\\d){3}'\n",
    "re.findall(pattern, input())"
   ]
  },
  {
   "cell_type": "markdown",
   "metadata": {},
   "source": [
    "#### Задача 2.\n",
    "\n",
    "Программа ждет, что пользователь введет адрес электронной почты. Предполагается, что адрес может содержать только латинские буквы, цифры и нижнее подчеркивание, обязательно содержит @ и имя домена через точку. Других точек в адресе нет. Программа должна проверять, что пользователь ввел именно такой адрес, и предупреждать, если что-то неладно. Используйте fullmatch."
   ]
  },
  {
   "cell_type": "code",
   "execution_count": null,
   "metadata": {},
   "outputs": [],
   "source": [
    "pattern = r'[a-zA-Z0-9_]+@[a-zA-Z0-9]+\\.[a-zA-Z0-9]+'\n",
    "if re.fullmatch(pattern, input()):\n",
    "    print(\"Отличный адрес\")\n",
    "else:\n",
    "    # Или оно должно писать, что именно неладно? Например, \"строка дефис\"?\n",
    "    # Я решила, что это сложно, и не стала такое делать\n",
    "    print(\"Что-то неладно\")"
   ]
  },
  {
   "cell_type": "markdown",
   "metadata": {},
   "source": [
    "#### Задача 3.\n",
    "\n",
    "Цензура: в тексте встречается слово *война* и разные его вариации в падежах (и регистр тоже везде разный). Замените это слово по всему тексту на многоточие."
   ]
  },
  {
   "cell_type": "code",
   "execution_count": null,
   "metadata": {},
   "outputs": [],
   "source": [
    "censor_pattern = r'\\bвойн(а(х|м[и]?)?|ы|у|ой|е)?\\b'\n",
    "\n",
    "print(re.sub(censor_pattern, '...', input(), flags=re.IGNORECASE))"
   ]
  },
  {
   "cell_type": "markdown",
   "metadata": {},
   "source": [
    "#### Задача 4.\n",
    "\n",
    "У нас есть (любой) текст, в котором встречаются целые числа. Числа могут быть отрицательными, тогда между минусом и числом нет никакого другого знака. Напишите программу, которая все числа увеличит на единицу (причем 34 должно превратиться в 35, а -34 - в -33). Нельзя пользоваться циклами!"
   ]
  },
  {
   "cell_type": "code",
   "execution_count": null,
   "metadata": {},
   "outputs": [],
   "source": [
    "pattern = r'(-?[1-9][0-9]*|0)'\n",
    "print(re.sub(pattern, lambda x: str(int(x[0]) + 1), input()))"
   ]
  },
  {
   "cell_type": "markdown",
   "metadata": {
    "tags": []
   },
   "source": [
    "#### Задача 5. \n",
    "\n",
    "Найти ценники в формате \"10000 руб. 00 коп.\", при этом:\n",
    "- \"руб.\" и \"коп.\" не обязательно сокращены;\n",
    "- кол-во копеек не может быть трёхзначным;\n",
    "- кол-во рублей может быть нулевым, но не может быть некорректно записанным числом типа \"0123 рубля\")"
   ]
  },
  {
   "cell_type": "code",
   "execution_count": null,
   "metadata": {},
   "outputs": [],
   "source": [
    "pattern = r'(?:0|[1-9]\\d*) (?:рубл(?:ь|я|ей)|руб\\.?|р\\.?) (?:00?|[1-9][0-9]?) (?:копе(?:йк[аи]|ек)|коп\\.?|к\\.?)'\n",
    "re.findall(pattern, input(), flags=re.IGNORECASE)"
   ]
  },
  {
   "cell_type": "markdown",
   "metadata": {},
   "source": [
    "#### Задача 6.\n",
    "\n",
    "Некоторые любят выделять особо важные места в тексте с помощью нижнего подчёркивания, например: \"...здесь \\_очень важно\\_ отметить...\" (дело в том, что нижние подчеркивания в некоторых редакторах автоматически превращаются в курсив).\n",
    "\n",
    "Ищем такие выделения, но не длиннее 5 слов."
   ]
  },
  {
   "cell_type": "code",
   "execution_count": null,
   "metadata": {},
   "outputs": [],
   "source": [
    "pattern = r'_(?:\\S+\\s){0,4}\\S+_'\n",
    "re.findall(pattern, input())"
   ]
  },
  {
   "cell_type": "markdown",
   "metadata": {},
   "source": [
    "#### Задача 7.\n",
    "\n",
    "Найти в тексте все куски, которые взяты в круглые скобки. Считаем, что вложенных скобок нет."
   ]
  },
  {
   "cell_type": "code",
   "execution_count": null,
   "metadata": {},
   "outputs": [],
   "source": [
    "pattern = r'(?<=\\().+?(?=\\))'\n",
    "re.findall(pattern, input())"
   ]
  },
  {
   "cell_type": "markdown",
   "metadata": {},
   "source": [
    "#### Задача 8. \n",
    "\n",
    "В текстовом файле находятся пути к другим файлам. Каждый путь устроен таким образом, что у него обязательно есть расширение через точку, название собственно файла и как минимум папка, в которой он находится, например:\n",
    "\n",
    "    myfolder/myfile.txt\n",
    "    C:\\Python\\files\\script.py\n",
    "    ...\n",
    "    \n",
    "Обратите внимание, что слеш может быть в любую сторону (в Windows он обратный, в Unix-системах прямой). Напишите такое регулярное выражение, которое будет в поиске re.findall возвращать кортежи вида ('все, что слева от имени файла', 'имя файла', 'расширение'). Для примеров:\n",
    "\n",
    "    ('myfolder', 'myfile', 'txt')\n",
    "    ('C:\\Python\\files', 'script', 'py')\n",
    "    "
   ]
  },
  {
   "cell_type": "code",
   "execution_count": null,
   "metadata": {},
   "outputs": [],
   "source": [
    "pattern = r'(.+)[\\\\\\/]+(.+)\\.(\\S+)'\n",
    "re.findall(pattern, input())\n",
    "# Там получаются \\\\ вместо \\ в результате, но как это поправить именно внутри регулярки я не знаю :("
   ]
  }
 ],
 "metadata": {
  "kernelspec": {
   "display_name": "Python 3",
   "language": "python",
   "name": "python3"
  },
  "language_info": {
   "codemirror_mode": {
    "name": "ipython",
    "version": 3
   },
   "file_extension": ".py",
   "mimetype": "text/x-python",
   "name": "python",
   "nbconvert_exporter": "python",
   "pygments_lexer": "ipython3",
   "version": "3.7.2"
  }
 },
 "nbformat": 4,
 "nbformat_minor": 5
}
