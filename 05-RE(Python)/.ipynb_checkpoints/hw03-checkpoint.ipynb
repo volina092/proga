{
 "cells": [
  {
   "cell_type": "code",
   "execution_count": null,
   "metadata": {},
   "outputs": [],
   "source": [
    "import re"
   ]
  },
  {
   "cell_type": "code",
   "execution_count": null,
   "metadata": {},
   "outputs": [],
   "source": [
    "example = ''' your code \n",
    "     your code here\n",
    "your code here\n",
    "\n",
    "        \n",
    "your code here'''"
   ]
  },
  {
   "cell_type": "markdown",
   "metadata": {},
   "source": [
    "#### Задача 1. \n",
    "\n",
    "Текст состоит из строк (lines). Удалите одним регулярным выражением все пробелы в началах всех строк, и все пробелы в концах всех строк."
   ]
  },
  {
   "cell_type": "code",
   "execution_count": null,
   "metadata": {},
   "outputs": [],
   "source": [
    "# print(re.sub(r'(^ *| *$)', '', example, flags=re.MULTILINE))\n",
    "print(re.sub(r'(^ *| *$)', '', input(), flags=re.MULTILINE))"
   ]
  },
  {
   "cell_type": "markdown",
   "metadata": {},
   "source": [
    "#### Задача 2. \n",
    "\n",
    "То же, но теперь не только обычные пробелы, а все пробельные символы. При этом, дополнительно нужно удалить все пустые строки (пустые вообще, а так же состоящие только из пробельных символов). Попробуйте сделать это за одну операцию замены."
   ]
  },
  {
   "cell_type": "code",
   "execution_count": null,
   "metadata": {},
   "outputs": [],
   "source": [
    "# print(re.sub(r'(^\\s*|\\s*$)', '', example, flags=re.MULTILINE))\n",
    "print(re.sub(r'(^\\s*|\\s*$)', '', input(), flags=re.MULTILINE))"
   ]
  },
  {
   "cell_type": "markdown",
   "metadata": {},
   "source": [
    "#### Задача 3. \n",
    "\n",
    "Сделайте то же самое без регулярных выражений в одну строчку, используя bilt-in функцию filter."
   ]
  },
  {
   "cell_type": "code",
   "execution_count": null,
   "metadata": {},
   "outputs": [],
   "source": [
    "# print('\\n'.join(list(filter(lambda s: s.strip(), map(str.strip, example.split('\\n'))))))\n",
    "print('\\n'.join(list(filter(lambda s: s.strip(), map(str.strip, input().split('\\n'))))))"
   ]
  },
  {
   "cell_type": "markdown",
   "metadata": {},
   "source": [
    "#### Задача 4.\n",
    "\n",
    "В тексте встречаются нецелые числа (причем могут быть через запятую или через точку). Нужно все числа в тексте округлить до двух знаков после запятой(точки), причем не просто отрезать хвост: 2.467 должно превращаться в 2.47."
   ]
  },
  {
   "cell_type": "code",
   "execution_count": null,
   "metadata": {},
   "outputs": [],
   "source": [
    "example = '''0,0000123 -0.05435 причем не просто отрезать хвост: 2.467 должно превращаться в 2.47 2,44.'''"
   ]
  },
  {
   "cell_type": "code",
   "execution_count": null,
   "metadata": {},
   "outputs": [],
   "source": [
    "pattern = r'(?:[1-9]\\d*|0)[\\.,]\\d+'\n",
    "print(re.sub(pattern, lambda x: str(round(float(x[0].replace(',', '.')), 2)).replace('.', ',') if x[0].count(',') else str(round(float(x[0]), 2)), example))\n",
    "# print(re.sub(pattern, lambda x: str(round(float(x[0].replace(',', '.')), 2)).replace('.', ',') if x[0].count(',') else str(round(float(x[0]), 2)), input()))"
   ]
  },
  {
   "cell_type": "code",
   "execution_count": null,
   "metadata": {},
   "outputs": [],
   "source": [
    "# pattern = r'((?:[1-9]\\d*|0)[\\.,])(\\d{3})\\d*'\n",
    "# re.sub(r'((?:[1-9]\\d*|0)[\\.,])(\\d{3})\\d*', lambda x: x[1] + (str(round(int(x[2])/10)).rjust(2, '0') if int(x[2]) else '0'), example)\n",
    "re.sub(r'((?:[1-9]\\d*|0)[\\.,])(\\d{3})\\d*', lambda x: x[1] + (str(round(int(x[2])/10)).rjust(2, '0') if int(x[2]) else '0'), input())"
   ]
  },
  {
   "cell_type": "code",
   "execution_count": null,
   "metadata": {},
   "outputs": [],
   "source": [
    "print(3 if 0 else 2)"
   ]
  },
  {
   "cell_type": "markdown",
   "metadata": {},
   "source": [
    "#### Задача 5.\n",
    "\n",
    "Напишите самый простой токенизатор: он должен захватывать стандартные знаки препинания, русские и английские слова (символы с диакритиками не берем в расчет), причем таким образом, чтобы каждому токену еще приписывалась его категория: пунктуация, кириллическое или английское слово. Подсказка: здесь очень удобно использовать группы. "
   ]
  },
  {
   "cell_type": "code",
   "execution_count": null,
   "metadata": {},
   "outputs": [],
   "source": [
    "class Tokenizer:\n",
    "    def __init__(self):\n",
    "        pass\n",
    "    def tokenize(self, text):\n",
    "        res = []\n",
    "        for elem in re.findall(r'([^\\w\\s])?([A-z]+[-\\']?[A-z]*)?([А-яЁё]+-?[А-яЁё]*)?', text):\n",
    "            if elem[0]: res.append(Token(elem[0], 'punct'))\n",
    "            elif elem[1]: res.append(Token(elem[1], 'en_word'))\n",
    "            elif elem[2]: res.append(Token(elem[2], 'ru_word'))\n",
    "        return res\n",
    "\n",
    "class Token:\n",
    "    def __init__(self, line, kind):     \n",
    "        self.line = line\n",
    "        self.kind = kind\n",
    "    \n",
    "    def __str__(self):\n",
    "        return f'{self.line} ({self.kind})'\n",
    "        \n",
    "    def __repr__(self):\n",
    "        return f'token: {self.line} kind: {self.kind}'"
   ]
  },
  {
   "cell_type": "code",
   "execution_count": null,
   "metadata": {},
   "outputs": [],
   "source": [
    "ex_text = '''\n",
    "Джон Рональд Руэл Толкин Толкин\n",
    "\n",
    "Дж. Р. Р. Толкиен Tolkin\n",
    "3535\n",
    "Д. Р. Р. Толкиен\n",
    "\n",
    "Джоном Рональдом Руэлом Толкином\n",
    "'''"
   ]
  },
  {
   "cell_type": "code",
   "execution_count": null,
   "metadata": {},
   "outputs": [],
   "source": [
    "t = Tokenizer()\n",
    "tokens_list = t.tokenize(ex_text)\n",
    "# print(tokens_list)\n",
    "# for token in tokens_list:\n",
    "#     print(token)"
   ]
  }
 ],
 "metadata": {
  "kernelspec": {
   "display_name": "Python 3",
   "language": "python",
   "name": "python3"
  },
  "language_info": {
   "codemirror_mode": {
    "name": "ipython",
    "version": 3
   },
   "file_extension": ".py",
   "mimetype": "text/x-python",
   "name": "python",
   "nbconvert_exporter": "python",
   "pygments_lexer": "ipython3",
   "version": "3.7.2"
  }
 },
 "nbformat": 4,
 "nbformat_minor": 5
}
