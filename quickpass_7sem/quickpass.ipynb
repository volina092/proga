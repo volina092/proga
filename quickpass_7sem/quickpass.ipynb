{
 "cells": [
  {
   "cell_type": "markdown",
   "id": "429ba643-23af-4d9a-b89d-0af26f740bb4",
   "metadata": {},
   "source": [
    "#### Задача 1 (6 баллов). \n",
    "\n",
    "Напишем игру \"ферма\". Наш игрок - экземпляр класса \"фермер\", у которого есть имя, стартовая сумма денег и объект класса \"ферма\". У объекта класса \"ферма\" есть жилплощадь (для самого фермера), а также могут быть поле для картошки, например (с площадью), огород под огурцы, постройки для домашних животных (с вместимостью). Наш фермер может покупать семена и животных, собирать урожай и взаимодействовать с животными (коров можно доить, свиней можно зарезать и продать мясо). Игра консольная, поэтому придется выводить нужную информацию через запросы игрока (игрок может захотеть знать, сколько у него есть животных, какие у него есть огороды-поля и так далее). \n",
    "\n",
    "Можно не строго следовать описанию, а использовать фантазию. Если мне очень понравится, могу приплюсовать балл."
   ]
  },
  {
   "cell_type": "code",
   "execution_count": null,
   "id": "05083c70-9397-430e-980a-bb700a345a7e",
   "metadata": {},
   "outputs": [],
   "source": [
    "# не успела :("
   ]
  },
  {
   "cell_type": "markdown",
   "id": "884977e4-7eeb-44d5-a8b8-a3b8dab1607a",
   "metadata": {
    "jp-MarkdownHeadingCollapsed": true
   },
   "source": [
    "#### Задача 2 (6 баллов). \n",
    "\n",
    "Напишите программу - примитивного голосового помощника, задача которого - помогать пользователю изучать выбранный язык. Такая программа должна уметь следующие вещи: \n",
    "\n",
    "- разговаривать с пользователем голосом (и распознавать его речь)\n",
    "- знать команды \"переведи\" и \"зачитай вслух\". Обе команды заставляют программу предложить пользователю ввести текст, который потом переводится и/или зачитывается программой. \n",
    "- знать команду \"практика\": программа предлагает пользователю небольшой текст, выбранный случайным образом из базы данных программы. Пользователь должен зачитать текст вслух, а программа должна сравнить распознанный голос пользователя с исходным текстом и сообщить, если не совпало. \n",
    "- опционально можно добавить функцию для ручного пополнения базы данных. \n",
    "\n",
    "Язык выбираете какой угодно (из поддерживаемых библиотеками, конечно). "
   ]
  },
  {
   "cell_type": "code",
   "execution_count": null,
   "id": "2dd2c29c-0327-445f-a01b-66630f93dd4b",
   "metadata": {},
   "outputs": [],
   "source": [
    "import speech_recognition\n",
    "import gtts\n",
    "from playsound import playsound\n",
    "import os\n",
    "import re\n",
    "import random\n",
    "from googletrans import Translator, constants"
   ]
  },
  {
   "cell_type": "code",
   "execution_count": null,
   "id": "6a666511-1f63-4774-b21a-272bfd45ac4d",
   "metadata": {},
   "outputs": [],
   "source": [
    "recognizer = speech_recognition.Recognizer()\n",
    "microphone = speech_recognition.Microphone()\n",
    "translator = Translator()"
   ]
  },
  {
   "cell_type": "code",
   "execution_count": null,
   "id": "174e7d4c-4b96-4c0f-8b59-7bfc521fb742",
   "metadata": {},
   "outputs": [],
   "source": [
    "def record_audio():\n",
    "    with microphone:\n",
    "        recognizer.adjust_for_ambient_noise(microphone, duration=2)        \n",
    "        try:\n",
    "            print(\"log: ждёт реплику\")\n",
    "            audio = recognizer.listen(microphone, 5, 5)\n",
    "        except speech_recognition.WaitTimeoutError:\n",
    "            print(\"log: микрофон не работает\")\n",
    "            return False\n",
    "        return audio\n",
    "\n",
    "def recognize_audio(audio, lang='ru'):\n",
    "    if not audio:\n",
    "        make_and_say_answer('Не вышло записать звук. Вы говорите тихо или с микрофоном неполадки')\n",
    "        return False\n",
    "    try:\n",
    "        print(\"log: начал распознавание\")\n",
    "        recognized_data = recognizer.recognize_google(audio, language=lang).lower()\n",
    "    except speech_recognition.UnknownValueError:\n",
    "        make_and_say_answer('Я не поняла или не расслышала, повторите, пожалуйста')\n",
    "        print(f'log: ошибка в распознавании, язык {lang}')\n",
    "        return False\n",
    "    except speech_recognition.RequestError:\n",
    "        make_and_say_answer('Интернет не работает, а сам я ничего не умею')\n",
    "        return False\n",
    "    return recognized_data"
   ]
  },
  {
   "cell_type": "code",
   "execution_count": null,
   "id": "50295883-75ca-42fd-83cf-373bd38bfe8f",
   "metadata": {},
   "outputs": [],
   "source": [
    "def make_and_say_answer(answer, lang='ru'):\n",
    "    gtts.gTTS(answer, lang = lang, slow = False).save('bot_answer.mp3')\n",
    "    playsound(\"bot_answer.mp3\")\n",
    "    os.remove('bot_answer.mp3') # и сразу удаляем, чтобы лишнее не плодить"
   ]
  },
  {
   "cell_type": "code",
   "execution_count": null,
   "id": "973d2b2b-0ef7-4371-8d76-202fe5ab651f",
   "metadata": {},
   "outputs": [],
   "source": [
    "texts_to_practice = [\n",
    "    'Ностальгия — это мечта о прошлом.',\n",
    "    'Два банана стоят на берегу реки. Один говорит другому: \"Давай поплывем по реке на другой берег!\" Другой банан отвечает: \"Нет, я боюсь, что мы замерзнем!\"',\n",
    "    'Два пингвина плавали в море, один говорит другому: \"Ну что, пора домой?\"',\n",
    "    'Она пришла домой и увидела двух мужчин в кровати.',\n",
    "    'Таксист приехал и попросил: \"Денег или анекдот?\"',\n",
    "    'Шон барашек прыгал по лужам, пока не устал.',\n",
    "    'Губка плавала и кричала: \"Помогите!\"',\n",
    "    'Пряжа просила проводника: \"Проведи меня до дома!\"'\n",
    "]\n",
    "def practice():\n",
    "    make_and_say_answer('Посмотрите в консоли текст, и когда будете готовы читать, напишите что угодно в поле для ввода', 'ru')\n",
    "    text = random.choice(texts_to_practice)\n",
    "    text_simple = ' '.join(re.sub(r'[^\\w\\s]', '', text.lower()).split())\n",
    "    print('ВАШ ТЕКСТ: ' + text)\n",
    "    input('ЧТО УГОДНО: ')\n",
    "    recognized = recognize_audio(record_audio())\n",
    "    if recognized != text_simple:\n",
    "        print('Вы прочли: ' + recognized)\n",
    "        print('А надо было: ' + text_simple)\n",
    "        make_and_say_answer('Вы ошиблись, посмотрите в консоль', 'ru')\n",
    "    else: \n",
    "        print('прочитано верно')\n",
    "        make_and_say_answer('Вы такой молодец, всё прочитали!', 'ru')\n",
    "        "
   ]
  },
  {
   "cell_type": "code",
   "execution_count": null,
   "id": "494b7c2a-b0d7-406e-81cd-c0662fd053fa",
   "metadata": {},
   "outputs": [],
   "source": [
    "def translate(replica):\n",
    "    recognized = recognize_audio(replica, 'ru')\n",
    "    if recognized: \n",
    "        translation = translator.translate(recognized, dest = 'el').text\n",
    "        print(f'реплика для перевода: {recognized}\\nперевод: {str(translation)}')\n",
    "        make_and_say_answer('Поняла! Переведу на греческий', 'ru')\n",
    "        make_and_say_answer(translation, 'el')\n",
    "    else: make_and_say_answer('У меня не получилось перевести. Попробуйте ещё раз', 'ru')"
   ]
  },
  {
   "cell_type": "code",
   "execution_count": null,
   "id": "949836d0-031a-48a0-8a59-f66db0122273",
   "metadata": {},
   "outputs": [],
   "source": [
    "next_step = True\n",
    "make_and_say_answer('Привет, я - бот. Попросите меня повторить, перевести или попрактиковаться')\n",
    "while next_step:\n",
    "    # реплика пользователя\n",
    "    recognized = recognize_audio(record_audio())\n",
    "    if not recognized: continue\n",
    "    print('реплика пользователя: ' + recognized)\n",
    "    # переведи\n",
    "    if re.match(r'перев[ео]д.*', recognized): \n",
    "        print('log: режим перевод')\n",
    "        make_and_say_answer('Скажите фразу, а я - переведу')\n",
    "        translate(record_audio())\n",
    "    # переведи\n",
    "    if re.match(r'.*читай.*', recognized): \n",
    "        print('log: режим чтение')\n",
    "        make_and_say_answer('Напишите фразу в поле для ввода, а я - прочитаю')\n",
    "        user_text = input('Введите текст: ')\n",
    "        make_and_say_answer(user_text)\n",
    "    # повтори\n",
    "    elif re.match(r'повтор.*', recognized): \n",
    "        print('log: режим повтор')\n",
    "        make_and_say_answer('Говорите, а я - повторю')\n",
    "        recognized = recognize_audio(record_audio())\n",
    "        if recognized: make_and_say_answer('Вы сказали:' + recognized)\n",
    "    # практика\n",
    "    elif re.match(r'.*(?:практик|трен[ие]р).*', recognized):\n",
    "        # make_and_say_answer('Хорошо, внимание в консоль.')\n",
    "        practice()\n",
    "    # закончили \n",
    "    elif re.match(r'(?:[с]?топ|хватит|пока)', recognized):\n",
    "        next_step = False\n",
    "        make_and_say_answer('O нет!')\n",
    "        print('log: завершил работу')\n",
    "    else:\n",
    "        make_and_say_answer('Чего вы хотите? Вы сказали:' + recognized)"
   ]
  },
  {
   "cell_type": "markdown",
   "id": "c976611c-dcbd-4f13-96b0-a862bedd554a",
   "metadata": {
    "jp-MarkdownHeadingCollapsed": true
   },
   "source": [
    "#### Задача 3 (1 балл). \n",
    "\n",
    "Возьмите любую лингвистическую статью по синтаксису (можно найти на scholar.google.com) и сверстайте в латехе любые три синтаксических дерева оттуда. "
   ]
  },
  {
   "cell_type": "code",
   "execution_count": null,
   "id": "0ed2a2cc-3692-4117-97f2-016ad99320a8",
   "metadata": {},
   "outputs": [],
   "source": [
    "# из этой книжки\n",
    "# http://ndl.ethernet.edu.et/bitstream/123456789/88321/1/Andrew_Radford%5D_English_Syntax_An_Introduction%28BookFi.org%29%20%281%29.pdf"
   ]
  },
  {
   "cell_type": "code",
   "execution_count": null,
   "id": "87f15938-0fe7-43a0-b08a-3f311bc7a3d9",
   "metadata": {},
   "outputs": [],
   "source": [
    "# результат в latex_res.pdf\n",
    "# а вот как я рисую:"
   ]
  },
  {
   "cell_type": "markdown",
   "id": "886f4bc9-ffbc-4dd7-bf20-f1370666276c",
   "metadata": {},
   "source": [
    "\\documentclass{article}\n",
    "\\usepackage[utf8]{inputenc}\n",
    "\\usepackage[russian]{babel}\n",
    "\\usepackage[utf8]{inputenc}\n",
    "\n",
    "\\usepackage{soul}\n",
    "\\usepackage{tikz-qtree}\n",
    "\\tikzstyle{bag} = [align=center]\n",
    "\n",
    "\\begin{document}\n",
    "% http://ndl.ethernet.edu.et/bitstream/123456789/88321/1/Andrew_Radford%5D_English_Syntax_An_Introduction%28BookFi.org%29%20%281%29.pdf\n",
    "1. стр. 190, пример (86) \\bigbreak\n",
    "\n",
    "\\begin{tikzpicture}\n",
    "    \\node (is-root) {VP'}\n",
    "    [sibling distance=3cm]\n",
    "    child {\n",
    "        node[bag] {T \\\\ HAVE \\\\ {[Pres-Tns]} \\\\ {[\\textit{u-Pers}]}\\\\ {[\\textit{u-Num}]}}\n",
    "    }\n",
    "    child {\n",
    "        node {vP}\n",
    "        child {\n",
    "            node[bag] {PRN \\\\ YOU \\\\ {[2-Pers]} \\\\ {[PL-Num]} \\\\ {[\\textit{u-Case}]}}\n",
    "        }\n",
    "        child {\n",
    "            node {v'}\n",
    "            child {\n",
    "                node {v}\n",
    "                child {\n",
    "                    node[bag] {ø+upset \\\\ {[\\st{\\textit{3-Pers}}]} \\\\ {[\\st{\\textit{Pl-Num}}]}}\n",
    "                }\n",
    "            }\n",
    "            child {\n",
    "                node {VP}\n",
    "                child {\n",
    "                    node[bag] {V \\\\ \\st{upset}}\n",
    "                }\n",
    "                child {\n",
    "                    node[bag] {PRN \\\\ them \\\\ {[3-Pers]} \\\\ {[PL-Num]} \\\\ {[\\st{\\textit{Acc-Case}}]}}\n",
    "                }\n",
    "            }\n",
    "        }\n",
    "    }\n",
    "\\end{tikzpicture} \\bigbreak\n",
    "2. стр. 194, пример (3) \\bigbreak\n",
    "\\begin{tikzpicture}\n",
    " \\node (is-root) {vP}\n",
    "    [sibling distance=3cm]\n",
    "    child {\n",
    "        node[bag] {DP \\\\ ø Ruritania}        \n",
    "    }\n",
    "    child {\n",
    "        node {v'}\n",
    "        child {\n",
    "            node[bag] {v \\\\ ø+withdraw}\n",
    "        }\n",
    "        child {\n",
    "            node {VP}\n",
    "            child{\n",
    "                node[bag] {QP \\\\ ø troops}\n",
    "            }\n",
    "            child {\n",
    "                node {V'}\n",
    "                child {\n",
    "                    node[bag] {V \\\\ \\textit{withdraw}}\n",
    "                }\n",
    "                child {\n",
    "                    node[bag] {PP \\\\ from ø Utopia}\n",
    "                }\n",
    "            }\n",
    "        }\n",
    "    }\n",
    "\\end{tikzpicture} \\bigbreak\n",
    "3. стр. 195, пример (5) \\bigbreak\n",
    "\\begin{tikzpicture}\n",
    " \\node (is-root) {TP}\n",
    "    [sibling distance=4cm]\n",
    "    child {\n",
    "        node[bag] {DP \\\\ ø Ruritania}        \n",
    "    }\n",
    "    child {\n",
    "        node {T}\n",
    "            child {\n",
    "                 node[bag] {T \\\\ will}\n",
    "            }\n",
    "            child {\n",
    "                node {vP}\n",
    "                child {\n",
    "                    node[bag] {DP \\\\ ø Ruritania}\n",
    "                }\n",
    "                child {\n",
    "                    node {v'}\n",
    "                    child {\n",
    "                        node[bag] {v \\\\ ø+withdraw}\n",
    "                    }\n",
    "                    child {\n",
    "                        node[bag] {PP \\\\ \\st{withdraw} ø troops from ø Utopia}\n",
    "                    }\n",
    "                }\n",
    "            }\n",
    "    }\n",
    "\\end{tikzpicture}\n",
    "\\end{document}"
   ]
  },
  {
   "cell_type": "markdown",
   "id": "58860bb5-0a90-4b31-af54-af0f768e6df9",
   "metadata": {
    "jp-MarkdownHeadingCollapsed": true
   },
   "source": [
    "#### Задача 4 (1 балл). \n",
    "\n",
    "Напишите функцию, которая строит график для n самых частотных слов в тексте. Сделайте интерактивный график, где можно выбирать количество n слов."
   ]
  },
  {
   "cell_type": "code",
   "execution_count": 358,
   "id": "81606092-8da5-4e28-a604-4bc7a9d0ec51",
   "metadata": {},
   "outputs": [],
   "source": [
    "text = '''Зацепилась тут в комментах за:\n",
    "\n",
    "«Если партнер себе нашёл какое-то хобби, которое начало его затягивать, и явно не развивает его, то очевидно, что ему вправить вовремя мозги»\n",
    "\n",
    "Вот вопрос, что такое «явно» и что такое «очевидно». И что такое «вправить мозги».\n",
    "Если попробовать посмотреть внимательно, многие явные вещи - не то, чем кажутся, или вообще не существуют. В смысле «явно» - не аргумент.\n",
    "Приведу пример, как «близкий делает явное не то, и, очевидно, пора ему вправить мозги».\n",
    "\n",
    "Когда-то папе показалось, что я недостаточно рьяно готовлюсь к школьным выпускным экзаменам, но при этом играю на гитаре. И он сказал «я сейчас сломаю и выброшу эту гитару». Вообще, он золотой и совершенно беззлобный человек. И училась я хорошо. И гитару эту именно он мне купил - в эпоху тотального отсутствия всего. Это были страшные корявые и твердые дрова, но их появление (в седьмом классе) было поворотом в моей судьбе. Это была _моя_ гитара - в родительском доме, купленная родителями, но моя. Ничего он, конечно, не сделал, было сказано не подумав и в сердцах, но запомнилось. Вот видите, сколько лет прошло, а я помню. Потому, что это была угроза недопустимого насилия над моей жизнью. И во мне было внутреннее ощущение: «он не имеет права!». Экзаменационные знания (например, идеологизированное и лживое обществоведение) мне не сказать, что пригодились, хотя вроде образование. Но сдала я их, что ж не сдать.\n",
    "Не мог папа предвидеть, что эта дровяная корявая гитара - на самом деле сейчас главный предмет в моей жизни и пропуск в предназначенное мне будущее, а не какая-то вредная фигня, отвлекающая от главного.\n",
    "У меня, как вы знаете, нет начального музыкального образования. Я самоучка, на той самой страшной гитаре открывшая и придумавшая музыку самостоятельно и без учебников. Родители не понимали и не предвидели моего будущего, мне пришлось самой наверстывать отсутствие музыкальной школы. Дальше у меня появилось среднее и высшее музыкальное, но так и не появилось начального. Как кто-то сказал, у тебя сейчас может быть бентли и самолет, но в детстве всё равно не было велосипеда.\n",
    "Так к чему я. Если близкий пляшет в простынях и потом едет валяться в грязи на дурацком фестивале буто, если он бежит спасать собачек или едет на тренинг по, фигурально выражаясь, арке трансформаций - совершенно не факт, что его надо запереть и сказать: «ты останешься, потому что я так сказал». И нельзя сказать: «я выкину сейчас твои арки и костюмы, иди вари борщи».\n",
    "Для меня это означает «ты моя вещь, и должна делать что я скажу». И именно от такого у меня подгорает и вскипает протест.\n",
    "Во-первых, даже действуя из лучших побуждений, доброжелатель не знает и не может предвидеть, что вам на самом деле глубинно нужно. Возможно, нужно нечто странное, но это ваша жизнь, а не его.\n",
    "Второе. Люди, вторгающиеся с благими намерениями, всегда действуют из своего близорукого интереса. Из своих выгоды, удобства, спокойствия, амбиций, планов, которые в данный момент уперлись в вас. Хотя в основном не осознают и не признают этого. Просто мы, люди, так вообще устроены, и ничего тут не попишешь.\n",
    "И да, близким может быть удобнее, чтобы вы сидели дома и варили борщи (читали книжки, готовились к экзамену), а не лезли на Эльбрус. Спокойнее, если вы сбагрены в брак и всё как у людей (к левому человеку, с которым вы несчастны). Амбициознее, если вы получаете престижное образование, пусть вам неинтересное и неполезное. Бывает, вы, напротив, хотите читать книжки и варить борщи, а вас волокут на соревнования, конкурсы, экзамены и кастинги.\n",
    "Причинить добро это называется.\n",
    "Никто на самом деле не может лучше вас знать, что вам нужно. Но всем удобнее, чтобы вы действовали как им надо, были понятны, предсказуемы и в рамках. Все вас мерят своей меркой, и их можно понять и простить. Но планы близких на вас - только дополнительный фактор. Главное - чего вы хотите сами. Если вы взрослый проявленный и осознанный человек, вы не будете ломать дров. Но вполне можете их наломать, если вам слишком долго не дают быть собой. Тогда да, здравствуй самоповреждение, разрушительное поведение, зависимости и депрессии.\n",
    "Кстати, для меня было новым ощущением, когда мой бойфренд, наконец-то не нарцисс и не абьюзер, на тот или иной вопрос «как мне лучше поступить?» отвечал: «посиди, прислушайся, как ты почувствуешь». Это не была отмазка, он готов был сопроводить мои процессы, обсудить их, побыть рядом. Но выбор оставлял за мной.\n",
    "Как-то многие десятилетия до того никто не прислушивался к тонким нюансам моих желаний. Всегда меня водили строем, забивали как гвоздь, вписывали в рамки, убеждали быть как все, или как надо конкретному человеку. Или уже у меня накапливалась атомная энергия, и я все нафиг взрывала. Но, оказывается, можно обойтись без резких переломов жизни, если прислушиваться на более раннем этапе к своим чуть более тонким ощущениям. И позволять это делать другим.\n",
    "Этот разговор не так прост. Есть действительно опасные вещи, от которых близкого стоит пытаться отговорить. Как минимум, это всё, что связано с зависимостями, с самоповреждением. И да, со связями с опасными людьми. В том числе, с попаданием в отношения с абьюзером. Один из маркеров потенциального абьюзера - ощущение партнера своей вещью и собственностью с правом распоряжаться его жизненным выбором.\n",
    "Но мы не всегда можем помочь.\n",
    "Возможность вмешательства в чужую жизнь, даже если это жизнь близкого, у нас очень ограничена.\n",
    "В частности, даже в случае очевидной связи близкого с абьюзером, как правило, окружающие не могут помочь. Могут только аккуратно высказать свое мнение и оказать поддержку, если к ним обратятся. Сам решит уйти - помочь.\n",
    "Но в целом другой человек - это вселенная, над которой никак мы не властны. Мы можем только наблюдать, в том числе ошибки и опасные глупости. Может, людям позарез надо пройти уроки именно в таком виде? Может надо от судьбы получить именно это? Реализовать дурацкие желания? Пойти по непонятной тропе, которая, может привести неведомо куда? Но это их тропа. А мы их зачем-то будем утаскивать с такого интересного аттракциона. Это только накапливает ярость, нереализованность, раздражение, или приводит к апатии.\n",
    "Получается, с близкими мы можем только обсуждать и договариваться, разъяснять и доказывать свою точку зрения.\n",
    "Но никаких «потому, что я так сказал». Вот об этом я хотела поговорить, задавая вопрос, что такое «явно», «не то» и как вообще можно «вправить мозги».\n",
    "'''"
   ]
  },
  {
   "cell_type": "code",
   "execution_count": null,
   "id": "d3151993-0cee-4a77-97a9-80c53eb241e3",
   "metadata": {},
   "outputs": [],
   "source": [
    "from nltk.probability import FreqDist\n",
    "import nltk\n",
    "import matplotlib.pyplot as plt\n",
    "import re\n",
    "\n",
    "text_tokens = nltk.word_tokenize(re.sub(r'[^\\w\\s]', '', text.lower()))\n",
    "fdist = FreqDist(nltk.Text(text_tokens))"
   ]
  },
  {
   "cell_type": "code",
   "execution_count": null,
   "id": "65d6ff0e-d8ab-4d87-9133-c3061e8446b3",
   "metadata": {},
   "outputs": [],
   "source": [
    "def draw_often_words(count):\n",
    "    fig = plt.figure()\n",
    "    ax = fig.add_subplot(111)\n",
    "    X = [elem[0] for elem in fdist.most_common(count)]\n",
    "    Y = [elem[1] for elem in fdist.most_common(count)]\n",
    "    ax.plot(X, Y, '-ro')\n",
    "    plt.show()\n",
    "draw_often_words(6)"
   ]
  },
  {
   "cell_type": "markdown",
   "id": "2ec9a6a1-feab-41d8-a2ae-73f9fa7191d1",
   "metadata": {
    "jp-MarkdownHeadingCollapsed": true
   },
   "source": [
    "#### Задача 5 (1 балл).\n",
    "\n",
    "Напишите программу, которая будет запрашивать у пользователя, какой из трех любых (выберите сами) признаков WALS он бы хотел посмотреть, и отрисовывать карту с WALS с этим признаком при помощи folium. Маркеры разных значений признака должны иметь разный цвет и иконку. "
   ]
  },
  {
   "cell_type": "code",
   "execution_count": null,
   "id": "aa0d35c2-ea6d-47d1-b210-9681f5b4c8c9",
   "metadata": {},
   "outputs": [],
   "source": [
    "import json\n",
    "import folium\n",
    "from folium.features import GeoJson\n",
    "\n",
    "feature_index = ''\n",
    "while not feature_index in set(range(3)):\n",
    "    try:\n",
    "        feature_index = int(input('Введите\\n\\t0 — чтобы посмотреть на карту про тоны\\n\\t1 — чтобы посмотреть карту про неопределённые местоимения\\n\\t2 — чтобы посмотреть карту про род\\n'))\n",
    "    except:\n",
    "        pass\n",
    "\n",
    "var_maps = [\n",
    "    ['maps/13A_Complex tone system.geojson', 'maps/13A_No tones.geojson', 'maps/13A_Simple tone system.geojson'],\n",
    "    ['maps/46A_Generic-noun-based.geojson', 'maps/46A_Interrogative-based.geojson', 'maps/46A_Special.geojson'],\n",
    "    ['maps/32A_No gender.geojson', 'maps/32A_Semantic and formal.geojson', 'maps/32A_Semantic.geojson']\n",
    "]\n",
    "world_map = folium.Map(location=[50, 90], zoom_start=2)\n",
    "colours = [\"green\", 'orange', 'black']\n",
    "spec_vars = var_maps[feature_index]\n",
    "for i in range(3):\n",
    "    folium.GeoJson(\n",
    "        json.load(open(spec_vars[i])),\n",
    "        marker=folium.Marker([50, 90], icon=folium.Icon(color=colours[i],icon=\"circle\", prefix='fa')),\n",
    "    ).add_to(world_map)\n",
    "world_map"
   ]
  },
  {
   "cell_type": "markdown",
   "id": "9aa9eb19-6da8-4c8e-b1a1-dfdb4f802fdb",
   "metadata": {
    "jp-MarkdownHeadingCollapsed": true
   },
   "source": [
    "#### 6. Задачи по pandas - в сумме 10 баллов\n",
    "\n",
    "В папке Data находится информация о студентах. Всего 10 групп студентов. Файлы делятся на две категории:\n",
    "    * Students_info_i - информация о студентах из группы i\n",
    "    * Students_marks_i - оценки студентов из группы i за экзамены"
   ]
  },
  {
   "cell_type": "code",
   "execution_count": null,
   "id": "9eb9fd13-42f3-4308-ae16-ab79c5bd57d5",
   "metadata": {},
   "outputs": [],
   "source": [
    "import pandas as pd\n",
    "import os\n",
    "from zipfile import ZipFile"
   ]
  },
  {
   "cell_type": "markdown",
   "id": "7926e0cb-3743-43a0-93b2-06af92c87b72",
   "metadata": {},
   "source": [
    "Задание 1. Соберите всю информацию о студентах в одну таблицу df. В получившейся таблице должна быть информация и оценки всех студентов из всех групп. Напечатайте несколько строк таблицы для демонстрации результата.¶"
   ]
  },
  {
   "cell_type": "code",
   "execution_count": null,
   "id": "8b28328d-fa47-4319-8c47-798adbcf3f34",
   "metadata": {
    "collapsed": true,
    "jupyter": {
     "outputs_hidden": true
    }
   },
   "outputs": [],
   "source": [
    "# распаковать архив\n",
    "\n",
    "with ZipFile('Data.zip', 'r') as zip_file:\n",
    "    zip_file.extractall('.')"
   ]
  },
  {
   "cell_type": "code",
   "execution_count": null,
   "id": "8e7b6d25-5b55-4c87-8593-90ed258b7d1f",
   "metadata": {
    "collapsed": true,
    "jupyter": {
     "outputs_hidden": true
    }
   },
   "outputs": [],
   "source": [
    "part_dfs_students = [pd.read_csv('./Data/' + file) for file in os.listdir('./Data') if file.startswith('Students_info_')]\n",
    "df_students = pd.concat(part_dfs_students) # df про студентов\n",
    "# df_students.sample(10)"
   ]
  },
  {
   "cell_type": "code",
   "execution_count": null,
   "id": "86575cac-8410-4aa7-9511-34e72e15b099",
   "metadata": {
    "collapsed": true,
    "jupyter": {
     "outputs_hidden": true
    }
   },
   "outputs": [],
   "source": [
    "part_dfs_marks = [pd.read_csv('./Data/' + file) for file in os.listdir('./Data') if file.startswith('Students_marks_')]\n",
    "df_marks = pd.concat(part_dfs_marks) # df про оценки\n",
    "# df_marks.sample(10)"
   ]
  },
  {
   "cell_type": "code",
   "execution_count": null,
   "id": "2d88227c-5e67-42d9-ac3e-5466b9c2b836",
   "metadata": {
    "collapsed": true,
    "jupyter": {
     "outputs_hidden": true
    }
   },
   "outputs": [],
   "source": [
    "df = pd.merge(df_students, df_marks) # всё, что мы знаем о студентах\n",
    "df.sample(10)"
   ]
  },
  {
   "cell_type": "markdown",
   "id": "20ce88ed-e36e-493c-86ff-e1d47796034b",
   "metadata": {
    "_uuid": "8524af4cbd2f7b7810e8a3095a74c9fe1df7eafa"
   },
   "source": [
    "Задание 2. Удалите столбец index у полученной таблицы. Напечатайте первые 10 строк таблицы."
   ]
  },
  {
   "cell_type": "code",
   "execution_count": null,
   "id": "65d3caac-60bf-4656-910f-b0645aee5065",
   "metadata": {
    "_uuid": "fe62eee87b9b94ab923f57b55eaf0554612aa9e9",
    "collapsed": true,
    "jupyter": {
     "outputs_hidden": true
    }
   },
   "outputs": [],
   "source": [
    "df = df.drop(columns = ['index'])\n",
    "df.head(10)"
   ]
  },
  {
   "cell_type": "markdown",
   "id": "50a1441b-fa2f-40f9-bdf3-54f1ade73dcc",
   "metadata": {
    "_uuid": "5fcd622942b7ecfc318934c6a245d3bb3bf01e84"
   },
   "source": [
    "Задание 3. Выведите на экран размеры полученной таблицы"
   ]
  },
  {
   "cell_type": "code",
   "execution_count": null,
   "id": "9064f830-25c2-430a-a762-20451ba8828d",
   "metadata": {
    "_uuid": "16281cd7b4e941ebed8ca2e1b42f62f55d838684",
    "collapsed": true,
    "jupyter": {
     "outputs_hidden": true
    }
   },
   "outputs": [],
   "source": [
    "print(f'Размеры таблицы — {df.shape}, где {df.shape[0]} — количество строк, а {df.shape[1]} — количество столбцов.')"
   ]
  },
  {
   "cell_type": "markdown",
   "id": "7754e894-a9d4-4df9-8556-400ae0140aa6",
   "metadata": {
    "_uuid": "fe8e3d58d29ca25dbbcf001392377643e6ff9a36"
   },
   "source": [
    "Задание 4. Выведите на экран статистические характеристики числовых столбцов таблицы (минимум, максимум, среднее значение, стандартное отклонение)"
   ]
  },
  {
   "cell_type": "code",
   "execution_count": null,
   "id": "0664eb5b-4acc-4cfa-844b-07e4068fed90",
   "metadata": {
    "_uuid": "e3d4bb80d2c4251fe517c24fcf08c5ff2d67b8aa",
    "collapsed": true,
    "jupyter": {
     "outputs_hidden": true
    }
   },
   "outputs": [],
   "source": [
    "def form_stat_str(column_title, df):\n",
    "    return f'''Для {column_title}:\n",
    "- минимум: {df[column_title].min()}\n",
    "- максимум: {df[column_title].max()}\n",
    "- среднее значение: {df[column_title].mean()}\n",
    "- стандартное отклонение: {df[column_title].std()}'''\n",
    "\n",
    "print(form_stat_str('math score', df)\n",
    "     + '\\n\\n' + form_stat_str('reading score', df)\n",
    "     + '\\n\\n' + form_stat_str('writing score', df))"
   ]
  },
  {
   "cell_type": "markdown",
   "id": "626967f0-bab2-401c-898a-a96e39707ba1",
   "metadata": {
    "_uuid": "b26b7de83485ecb3b8a0a7865a596e24527c7b2f"
   },
   "source": [
    "Задание 5. Проверьте, есть ли в таблице пропущенные значения"
   ]
  },
  {
   "cell_type": "code",
   "execution_count": null,
   "id": "7f02316c-04c1-4871-8e5f-0de3682a0056",
   "metadata": {
    "_uuid": "4eac3f8f83d07c6e58ad1576fe0e773f37034a2f",
    "collapsed": true,
    "jupyter": {
     "outputs_hidden": true
    }
   },
   "outputs": [],
   "source": [
    "df.isnull().sum()\n",
    "# Нет, какая красота"
   ]
  },
  {
   "cell_type": "markdown",
   "id": "d1fd6a43-602f-4bed-a6ae-d82d174068e1",
   "metadata": {},
   "source": [
    "Задание 6. Выведите на экран средние баллы студентов по каждому предмету (math, reading, writing)"
   ]
  },
  {
   "cell_type": "code",
   "execution_count": null,
   "id": "d4c7e412-8346-42f8-b586-92d92c98feba",
   "metadata": {
    "collapsed": true,
    "jupyter": {
     "outputs_hidden": true
    }
   },
   "outputs": [],
   "source": [
    "# кажется, я что-то недопоняла, потому что это уже было в задании 4\n",
    "print(f'''Средний балл...\n",
    "- по математике (math): {df['math score'].mean()} \n",
    "- по чтению (reading): {df['reading score'].mean()}\n",
    "- по письму (writing): {df['writing score'].mean()}''')"
   ]
  },
  {
   "cell_type": "markdown",
   "id": "8c877b1b-bfd5-48a6-b007-0a7965ff524a",
   "metadata": {},
   "source": [
    "Задание 7. Как зависят оценки от того, проходил ли студент курс для подготовки к сдаче экзамена (test preparation course)? Выведите на экран для каждого предмета в отдельности средний балл студентов, проходивших курс для подготовки к экзамену и не проходивших курс."
   ]
  },
  {
   "cell_type": "code",
   "execution_count": null,
   "id": "a2f052d0-f5f5-4fee-8978-1912d9bbd4f5",
   "metadata": {
    "collapsed": true,
    "jupyter": {
     "outputs_hidden": true
    }
   },
   "outputs": [],
   "source": [
    "df[df['test preparation course'] == 'completed']['math score'].mean()\n",
    "\n",
    "print(f'''Средний балл...\n",
    "- по математике (math):\\t{df[df['test preparation course'] == 'completed']['math score'].mean()} у прошедших курс\\tи {df[df['test preparation course'] == 'none']['math score'].mean()} у не прошедших\n",
    "- по чтению (reading):\\t{df[df['test preparation course'] == 'completed']['reading score'].mean()} у прошедших курс\\tи {df[df['test preparation course'] == 'none']['reading score'].mean()} у не прошедших\n",
    "- по письму (writing):\\t{df[df['test preparation course'] == 'completed']['writing score'].mean()} у прошедших курс\\tи {df[df['test preparation course'] == 'none']['writing score'].mean()} у не прошедших''')\n",
    "\n",
    "# получается, проходившие курс подготовки в среднем лучше сдавали экзамен, причём все три предмема"
   ]
  },
  {
   "cell_type": "markdown",
   "id": "ca94dadb-d25a-4bd0-872c-e27b7fb85488",
   "metadata": {},
   "source": [
    "Задание 8. Выведите на экран все различные значения из столбца lunch."
   ]
  },
  {
   "cell_type": "code",
   "execution_count": null,
   "id": "cfa600c5-2610-4c00-8c2e-9fd35dd640a2",
   "metadata": {
    "collapsed": true,
    "jupyter": {
     "outputs_hidden": true
    }
   },
   "outputs": [],
   "source": [
    "# можно так:\n",
    "df['lunch'].unique()"
   ]
  },
  {
   "cell_type": "code",
   "execution_count": null,
   "id": "b2d5c23f-c75e-4683-8ffb-478af7e3a81e",
   "metadata": {
    "collapsed": true,
    "jupyter": {
     "outputs_hidden": true
    }
   },
   "outputs": [],
   "source": [
    "# чтобы были только все значения проще всего сделать\n",
    "set(df['lunch'])"
   ]
  },
  {
   "cell_type": "markdown",
   "id": "3466caef-3f26-451f-a02b-1810b3919b13",
   "metadata": {},
   "source": [
    "Задание 9. Переименуйте колонку \"parental level of education\" в \"education\", а \"test preparation course\" в \"test preparation\" с помощью метода pandas rename."
   ]
  },
  {
   "cell_type": "code",
   "execution_count": null,
   "id": "103bd66d-6472-4753-ae4d-d49566e0dbcc",
   "metadata": {
    "collapsed": true,
    "jupyter": {
     "outputs_hidden": true
    }
   },
   "outputs": [],
   "source": [
    "df = df.rename(columns = {'parental level of education': 'education'})"
   ]
  },
  {
   "cell_type": "markdown",
   "id": "4b455e72-27b2-4806-8450-e3fdd8d45084",
   "metadata": {},
   "source": [
    "**Зафиксируем минимальный балл для сдачи экзамена**"
   ]
  },
  {
   "cell_type": "code",
   "execution_count": null,
   "id": "943070f1-4ee8-49a5-9f9e-2bca9233c344",
   "metadata": {
    "collapsed": true,
    "jupyter": {
     "outputs_hidden": true
    }
   },
   "outputs": [],
   "source": [
    "passmark = 50"
   ]
  },
  {
   "cell_type": "markdown",
   "id": "a2880b5f-67c3-442d-b460-cc4c2a12ff63",
   "metadata": {},
   "source": [
    "Задание 10. Ответьте на вопросы:\n",
    "\n",
    "    * Какая доля студентов сдала экзамен по математике (passmark > 50)?\n",
    "    * Какая доля студентов, проходивших курс подготовки к экзамену, сдала экзамен по математике?\n",
    "    * Какая доля женщин, не проходивших курс подготовки к экзамену, не сдала экзамен по математике? "
   ]
  },
  {
   "cell_type": "code",
   "execution_count": null,
   "id": "8d341a91-6a24-4663-86bc-c44ef3dfb7b8",
   "metadata": {
    "collapsed": true,
    "jupyter": {
     "outputs_hidden": true
    }
   },
   "outputs": [],
   "source": [
    "just_percent = df[df['math score'] > passmark].count()[0] / len(df['math score']) * 100\n",
    "# можно было бы использовать count(), но я, честно говоря, не понимаю зачем\n",
    "# just_percent = df[df['math score'] > passmark].count()[0] / len(df['math score']) * 100 \n",
    "\n",
    "after_course_percent = round(len(df[(df['math score'] > passmark) & (df['test preparation course'] == 'completed')]) / len(df[df['test preparation course'] == 'completed']) * 100, 2)\n",
    "fail_after_course_percent = round(len(df[(df['math score'] > passmark) & (df['test preparation course'] == 'none')]) / len(df[df['test preparation course'] == 'none']) * 100, 2)\n",
    "\n",
    "print(f\"\"\"Из всех студентов {df[df['math score'] > passmark].count()[0] / len(df['math score']) * 100}% сдали экзамен по математике,\n",
    "\n",
    "причём среди проходивших курс подготовки к экзамену сдали {after_course_percent}%,\n",
    "\n",
    "а среди не проходивших — {fail_after_course_percent}%\"\"\")"
   ]
  },
  {
   "cell_type": "markdown",
   "id": "09d71f8f-769b-4a1e-80a8-a263144eb2f4",
   "metadata": {},
   "source": [
    "Задание 11. С помощью groupby выполните задания ниже. Также выведите время выполнения каждого из заданий.\n",
    "\n",
    "    * Для каждой этнической группы выведите средний балл за экзамен по чтению\n",
    "    * Для каждого уровня образования выведите минимальный балл за экзамен по письму"
   ]
  },
  {
   "cell_type": "code",
   "execution_count": null,
   "id": "1ef028eb-b19a-4932-9527-1adf49d5130e",
   "metadata": {
    "collapsed": true,
    "jupyter": {
     "outputs_hidden": true
    }
   },
   "outputs": [],
   "source": [
    "# Для каждой этнической группы выведите средний балл за экзамен по чтению\n",
    "print(df.groupby('race/ethnicity')['reading score'].mean())"
   ]
  },
  {
   "cell_type": "code",
   "execution_count": null,
   "id": "61a74cab-761e-4644-bd87-aab072525a7a",
   "metadata": {
    "collapsed": true,
    "jupyter": {
     "outputs_hidden": true
    }
   },
   "outputs": [],
   "source": [
    "# Для каждого уровня образования выведите минимальный балл за экзамен по письму\n",
    "print(df.groupby('education')['writing score'].min())\n"
   ]
  },
  {
   "cell_type": "markdown",
   "id": "b9b3b36e-1928-47bb-a1c0-d68ff7e9a273",
   "metadata": {},
   "source": [
    "Задание 12. Выполните задание 11 с помощью циклов. Сравните время выполнения."
   ]
  },
  {
   "cell_type": "code",
   "execution_count": null,
   "id": "b4ed679d-77f2-4a09-b128-17dfff159b3b",
   "metadata": {
    "collapsed": true,
    "jupyter": {
     "outputs_hidden": true
    }
   },
   "outputs": [],
   "source": [
    "# Для каждой этнической группы выведите средний балл за экзамен по чтению\n",
    "def mean_for_reading_in_races(df):\n",
    "    races = dict()\n",
    "    for race in set(df['race/ethnicity']):\n",
    "        races[race] = []\n",
    "    for index, row in df.iterrows():\n",
    "        races[row['race/ethnicity']].append(row['reading score'])\n",
    "    for race in races:\n",
    "        races[race] = sum(races[race]) / len(races[race])\n",
    "    return races\n",
    "# print(mean_for_reading_in_races(df))\n",
    "\n",
    "%timeit (mean_for_reading_in_races(df))"
   ]
  },
  {
   "cell_type": "code",
   "execution_count": null,
   "id": "9b240980-f155-4bd1-adf9-fe4e24ea1334",
   "metadata": {
    "collapsed": true,
    "jupyter": {
     "outputs_hidden": true
    }
   },
   "outputs": [],
   "source": [
    "# считаем то же с groupby\n",
    "%timeit df.groupby('race/ethnicity')['reading score'].mean()"
   ]
  },
  {
   "cell_type": "code",
   "execution_count": null,
   "id": "0a145ce7-6d72-4f50-ac8a-568486bc56d1",
   "metadata": {
    "collapsed": true,
    "jupyter": {
     "outputs_hidden": true
    }
   },
   "outputs": [],
   "source": [
    "# Для каждого уровня образования выведите минимальный балл за экзамен по письму\n",
    "def mean_for_writing_in_educ_levels(df):\n",
    "    educ_levels = dict()\n",
    "    for educ_level in set(df['education']):\n",
    "        educ_levels[educ_level] = 100\n",
    "    for index, row in df.iterrows():\n",
    "        if row['writing score'] < educ_levels[row['education']]:\n",
    "            educ_levels[row['education']] = row['writing score']\n",
    "    return educ_levels\n",
    "\n",
    "# print(mean_for_writing_in_educ_levels(df))\n",
    "%timeit (mean_for_writing_in_educ_levels(df))"
   ]
  },
  {
   "cell_type": "code",
   "execution_count": null,
   "id": "8fd21f40-a8b8-4c51-ae97-a010d5312cbc",
   "metadata": {
    "collapsed": true,
    "jupyter": {
     "outputs_hidden": true
    }
   },
   "outputs": [],
   "source": [
    "# считаем то же с groupby\n",
    "%timeit df.groupby('education')['writing score'].min()"
   ]
  },
  {
   "cell_type": "code",
   "execution_count": null,
   "id": "840c8d10-ca02-48fd-9764-e16c1f1cc214",
   "metadata": {
    "collapsed": true,
    "jupyter": {
     "outputs_hidden": true
    }
   },
   "outputs": [],
   "source": [
    "# Ну что, разница большая, конечно.\n",
    "\n",
    "# Наверное можно как-то более оптимально сделать циклами, но так хорошо точно не будет"
   ]
  },
  {
   "cell_type": "markdown",
   "id": "24c1dbcb-945a-4b5a-a38d-e5a3d6c66bc3",
   "metadata": {},
   "source": [
    "Задание 13. Выведите на экран средние баллы студентов по каждому предмету в зависимости от пола и уровня образования. То есть должно получиться количество групп, равных 2 * (число уровней образования), и для каждой такой группы выыведите средний балл по каждому из предметов.\n",
    "\n",
    "Это можно сделать с помощью сводных таблиц (pivot_table)."
   ]
  },
  {
   "cell_type": "code",
   "execution_count": null,
   "id": "20ccb234-6551-435b-80af-7a343ec93ea5",
   "metadata": {
    "collapsed": true,
    "jupyter": {
     "outputs_hidden": true
    }
   },
   "outputs": [],
   "source": [
    "dropped_df =  df.drop(columns = ['race/ethnicity', 'lunch', 'group', 'test preparation course']) # убираем нечисловые колонки из df\n",
    "pd.pivot_table(dropped_df, index=['gender', 'education'])"
   ]
  },
  {
   "cell_type": "markdown",
   "id": "cd472563-6817-4895-821a-60486c2a37de",
   "metadata": {
    "_uuid": "3e832cb427c4314582d1953a41b8c78db75e30e3"
   },
   "source": [
    "Задание 14. Сколько студентов успешно сдали экзамен по математике?\n",
    "\n",
    "Создайте новый столбец в таблице df под названием Math_PassStatus и запишите в него F, если студент не сдал экзамен по математике (балл за экзамен < passmark), и P иначе.\n",
    "\n",
    "Посчитайте количество студентов, сдавших и не сдавших экзамен по математике.\n",
    "\n",
    "Сделайте аналогичные шаги для экзаменов по чтению и письму."
   ]
  },
  {
   "cell_type": "code",
   "execution_count": null,
   "id": "371e5a5a-7d62-4262-a1e7-3958dfb0cc45",
   "metadata": {
    "_uuid": "f43cddb72cc96b30df84bc0de83a4d9170904340",
    "collapsed": true,
    "jupyter": {
     "outputs_hidden": true
    }
   },
   "outputs": [],
   "source": [
    "df['Math_PassStatus'] = df['math score'].apply(lambda mark: 'F' if mark < passmark else 'P') # сделали и заполнили столбец\n",
    "print(f\"Математику не сдали {len(df[df['Math_PassStatus'] == 'F'])} студентов (из {len(df)})\")"
   ]
  },
  {
   "cell_type": "code",
   "execution_count": null,
   "id": "f0cd34f8-7b4c-4950-8f86-f999fa750d9b",
   "metadata": {
    "collapsed": true,
    "jupyter": {
     "outputs_hidden": true
    }
   },
   "outputs": [],
   "source": [
    "df['Reading_PassStatus'] = df['reading score'].apply(lambda mark: 'F' if mark < passmark else 'P') # сделали и заполнили столбец\n",
    "print(f\"Чтение не сдали {len(df[df['Reading_PassStatus'] == 'F'])} студентов (из {len(df)})\")"
   ]
  },
  {
   "cell_type": "code",
   "execution_count": null,
   "id": "8c113607-7d48-4864-95a7-049af30d2b15",
   "metadata": {
    "collapsed": true,
    "jupyter": {
     "outputs_hidden": true
    }
   },
   "outputs": [],
   "source": [
    "df['Writing_PassStatus'] = df['writing score'].apply(lambda mark: 'F' if mark < passmark else 'P') # сделали и заполнили столбец\n",
    "print(f\"Письмо не сдали {len(df[df['Writing_PassStatus'] == 'F'])} студентов (из {len(df)})\")"
   ]
  },
  {
   "cell_type": "markdown",
   "id": "4387016a-5c97-4a34-933c-7ac05b27a553",
   "metadata": {
    "_uuid": "b753c90914ee65501e2ed263ea614d88a381c472"
   },
   "source": [
    "Задание 15. Сколько студентов успешно сдали все экзамены?\n",
    "\n",
    "Создайте столбец OverAll_PassStatus и запишите в него для каждого студента 'F', если студент не сдал хотя бы один из трех экзаменов, а иначе 'P'.\n",
    "\n",
    "Посчитайте количество студентов, которые сдали все экзамены."
   ]
  },
  {
   "cell_type": "code",
   "execution_count": null,
   "id": "260e7cfd-90c5-4cbb-af4c-b176b591118c",
   "metadata": {
    "_uuid": "e98f895a022b967cab801447b616222439fe9d84",
    "collapsed": true,
    "jupyter": {
     "outputs_hidden": true
    }
   },
   "outputs": [],
   "source": [
    "df['OverAll_PassStatus'] = df.apply(lambda row: 'F' if (row['math score'] < passmark or row['reading score'] < passmark or row['writing score'] < passmark) else 'P', axis=1) # сделали и заполнили столбец\n",
    "print(f\"Все экзамены сдали {len(df[df['OverAll_PassStatus'] == 'P'])} студентов (из {len(df)})\")"
   ]
  },
  {
   "cell_type": "markdown",
   "id": "216d735a-e2ff-475f-b542-6c79d58cbd24",
   "metadata": {
    "_uuid": "3af9c6cb4cbfff66d4ae09509f10b8b6ce33075d"
   },
   "source": [
    "Задание 16. Переведем баллы в оценки\n",
    "\n",
    "Система перевода баллов в оценки\n",
    "\n",
    "      [90;100] = A\n",
    "      [80;90) = B\n",
    "      [70;80) = C\n",
    "      [60;70) = D\n",
    "      [50;60) = E\n",
    "      [0;50) = F (Fail)\n",
    "\n",
    "Создайте вспомогательную функцию, которая будет по среднему баллу за три экзамена выставлять оценку студенту по данным выше критериям.\n",
    "\n",
    "Создайте столбец Grade и запишите в него оценку каждого студента.\n",
    "\n",
    "Выведите количество студентов, получивших каждую из оценок."
   ]
  },
  {
   "cell_type": "code",
   "execution_count": null,
   "id": "bba2def2-2830-4fb4-8a3f-bb17a9bf0588",
   "metadata": {
    "_uuid": "04707c5be4237020b906d2ac705a0db3d620506f",
    "collapsed": true,
    "jupyter": {
     "outputs_hidden": true
    }
   },
   "outputs": [],
   "source": [
    "def GetGrade(average_mark):\n",
    "    marks_letters = {90: 'A', 80: 'B', 70: 'C', 60: 'D', 50: 'E'}\n",
    "    for letter_min_value in marks_letters:\n",
    "        if average_mark >= letter_min_value: return marks_letters[letter_min_value]\n",
    "    return 'F'\n",
    "\n",
    "df['Gemeral Grade'] = df.apply(lambda row: GetGrade((row['math score'] + row['reading score'] + row['writing score']) / 3), axis=1)\n",
    "# df"
   ]
  },
  {
   "cell_type": "markdown",
   "id": "be98b8fb-eb26-4131-8971-c53becb56a73",
   "metadata": {
    "jp-MarkdownHeadingCollapsed": true
   },
   "source": [
    "#### Задача 7 (5 баллов). \n",
    "\n",
    "Напишите примитивный краулер, который с помощью библиотек requests & beautifulsoup4 будет собирать тексты с сайта proza.ru. "
   ]
  },
  {
   "cell_type": "code",
   "execution_count": null,
   "id": "51c8202e-8f3d-4634-b61c-ac8ceed1a951",
   "metadata": {
    "collapsed": true,
    "jupyter": {
     "outputs_hidden": true
    }
   },
   "outputs": [],
   "source": [
    "import re\n",
    "import requests\n",
    "from bs4 import BeautifulSoup as bs"
   ]
  },
  {
   "cell_type": "code",
   "execution_count": null,
   "id": "2f87d6a6-bb16-47a2-939a-dc101a19c217",
   "metadata": {
    "collapsed": true,
    "jupyter": {
     "outputs_hidden": true
    }
   },
   "outputs": [],
   "source": [
    "try:\n",
    "    os.makedirs('proza_texts')\n",
    "except OSError as e:\n",
    "    if e.errno == 17: print('Эта папка уже существует')\n",
    "    else: raise"
   ]
  },
  {
   "cell_type": "code",
   "execution_count": null,
   "id": "ceebf727-eb93-4d33-92bd-5b4ab8769897",
   "metadata": {
    "collapsed": true,
    "jupyter": {
     "outputs_hidden": true
    }
   },
   "outputs": [],
   "source": [
    "def check_link(page, viewed, dir_title, text_counter):\n",
    "    viewed.add(page)\n",
    "    soup = bs(requests.get(page).text, 'html.parser')\n",
    "    \n",
    "    link_ends_date = re.match(r'https://proza.ru/\\d{4}/(\\d\\d/\\d\\d/.*)', page)\n",
    "    if re.match(r'https://proza.ru/\\d{4}/(\\d\\d/\\d\\d/.*)', page):\n",
    "        with open(dir_title + '/' + link_ends_date[1].replace('/', '-') + '.txt', 'w') as f:\n",
    "            f.write('\\n'.join((elem.text for elem in soup.find_all(\"div\", {\"class\": \"text\"}))))\n",
    "    links = []\n",
    "    for link in soup.find_all('a', attrs={'href': re.compile(r'^/.+')}):\n",
    "        l = 'https://proza.ru' + link.get('href')\n",
    "        if l not in viewed:\n",
    "            links.append(l)\n",
    "    if links:\n",
    "        for link in links:\n",
    "            if sum(1 if file.endswith('.txt') else 0 for file in os.listdir(dir_title)) >= text_counter: return\n",
    "            if re.search('board|login|help|topic|type|about|addrec|complain|readers', link): continue\n",
    "            sleep(0.5)\n",
    "            check_link(link, viewed, dir_title, text_counter)\n",
    "    else:\n",
    "        return "
   ]
  },
  {
   "cell_type": "code",
   "execution_count": null,
   "id": "86b54798-06fb-4dc3-8cd7-38749f75934c",
   "metadata": {
    "collapsed": true,
    "jupyter": {
     "outputs_hidden": true
    }
   },
   "outputs": [],
   "source": [
    "viewedlinks = set()\n",
    "check_link('https://proza.ru/avtor/karinedkar', viewedlinks, 'proza_texts', 5)\n",
    "# os.listdir('proza_texts')"
   ]
  },
  {
   "cell_type": "markdown",
   "id": "79cb93fa-0d7f-4645-8947-fe0c7c6d4b9e",
   "metadata": {
    "jp-MarkdownHeadingCollapsed": true
   },
   "source": [
    "#### Задача 8 (5 баллов). \n",
    "\n",
    "Некоторое лингвистическое исследование показало, что в дневниковых записях и подобных текстах (н-р, блоги ЖЖ) на 100 личных местоимений местоимения распределяются следующим образом:\n",
    "\n",
    "    я - 50 раз\n",
    "    ты - 5 раз\n",
    "    он/она/оно - 25 раз\n",
    "    мы - 3 раза\n",
    "    вы - 2 раза\n",
    "    они - 15 раз\n",
    "    \n",
    "Возьмите любой достаточно большой набор текстов (блоги ЖЖ, дневниковые записи) и проверьте, действительно ли в нем такое распределение местоимений. "
   ]
  },
  {
   "cell_type": "code",
   "execution_count": null,
   "id": "0aea3640-fcec-4ea1-92c4-06a2e033b1a3",
   "metadata": {
    "collapsed": true,
    "jupyter": {
     "outputs_hidden": true
    }
   },
   "outputs": [],
   "source": [
    "import requests\n",
    "from bs4 import BeautifulSoup as bs\n",
    "import re\n",
    "import json\n",
    "import time"
   ]
  },
  {
   "cell_type": "code",
   "execution_count": null,
   "id": "318b8c44-84f9-443e-a94a-564df3e4d103",
   "metadata": {
    "collapsed": true,
    "jupyter": {
     "outputs_hidden": true
    }
   },
   "outputs": [],
   "source": [
    "# ссылки на конкретные посты\n",
    "def get_posts_links(page_from):\n",
    "    links = set()\n",
    "    soup = bs(requests.get(page_from).text, 'html.parser')\n",
    "    for link in soup.find_all('a'):\n",
    "        href = link.get('href')\n",
    "        if href:\n",
    "            match = re.match(r'https:\\/\\/ylgur\\.livejournal\\.com\\/\\d*\\.html', href)\n",
    "            if match and match[0] == href:\n",
    "                links.add(href)\n",
    "    return links\n",
    "# get_posts_links('https://ylgur.livejournal.com/') # например для первой страницы"
   ]
  },
  {
   "cell_type": "code",
   "execution_count": null,
   "id": "d2b681ca-4365-4e21-a650-7e56bcd079e5",
   "metadata": {
    "collapsed": true,
    "jupyter": {
     "outputs_hidden": true
    }
   },
   "outputs": [],
   "source": [
    "def get_text_of_post(link):\n",
    "    soup = bs(requests.get(link).text, 'html.parser')\n",
    "    return soup.find('div', class_='asset-body').get_text()[6:] # [6:] потому что я не знаю, как вынуть (и выкинуть) оттуда \"i-ljuser-username\""
   ]
  },
  {
   "cell_type": "code",
   "execution_count": null,
   "id": "1828dfcb-f9ba-414a-a4fe-5d60693b2b70",
   "metadata": {
    "collapsed": true,
    "jupyter": {
     "outputs_hidden": true
    }
   },
   "outputs": [],
   "source": [
    "posts = set()\n",
    "for i in range(200, 400, 10): # можно вызять и больше, гдавное, чтобы число делилось на 10 (ну и чтобы в блоге вообще столько было)\n",
    "    posts = posts | get_posts_links(f'https://ylgur.livejournal.com/?skip={i}')\n",
    "    time.sleep(0.2)\n",
    "# posts"
   ]
  },
  {
   "cell_type": "code",
   "execution_count": null,
   "id": "1c8ff9cf-7b7d-41e1-b22c-dc1cdd611586",
   "metadata": {
    "collapsed": true,
    "jupyter": {
     "outputs_hidden": true
    }
   },
   "outputs": [],
   "source": [
    "# собираем корпус\n",
    "with open('corpora.txt', 'w', encoding='utf-8') as f:\n",
    "    f.write(' '.join(map(get_text_of_post, posts)))"
   ]
  },
  {
   "cell_type": "code",
   "execution_count": null,
   "id": "3c04ad3b-3748-48f1-82ec-ab64a4f1cfa1",
   "metadata": {
    "collapsed": true,
    "jupyter": {
     "outputs_hidden": true
    }
   },
   "outputs": [],
   "source": [
    "# лемматизация\n",
    "!mystem -n -c -i -d --format json corpora.txt lem_res.json"
   ]
  },
  {
   "cell_type": "code",
   "execution_count": null,
   "id": "1350b83f-acd3-434f-b4e8-38ccef894102",
   "metadata": {
    "collapsed": true,
    "jupyter": {
     "outputs_hidden": true
    }
   },
   "outputs": [],
   "source": [
    "# словарик с леммами\n",
    "with open('lem_res.json', 'r', encoding='utf-8') as f:\n",
    "    lem_dict = [json.loads(line) for line in f.readlines() if line != '{\"text\":\" \"}\\n']"
   ]
  },
  {
   "cell_type": "code",
   "execution_count": null,
   "id": "38c76472-84d0-42e3-aab1-cf181cdbe3b0",
   "metadata": {
    "collapsed": true,
    "jupyter": {
     "outputs_hidden": true
    }
   },
   "outputs": [],
   "source": [
    "prons = {'я': 0, 'ты': 0, 'он(-а/-о)': 0, 'мы': 0, 'вы': 0, 'они': 0}\n",
    "\n",
    "# считаем\n",
    "for elem in lem_dict:\n",
    "    if 'analysis' in elem and len(elem['analysis']) and elem['analysis'][0]['lex'] in prons:\n",
    "        prons[elem['analysis'][0]['lex']] += 1\n",
    "    elif 'analysis' in elem and len(elem['analysis']) and elem['analysis'][0]['lex'] in ['он', 'она', 'оно']:\n",
    "        prons['он(-а/-о)'] += 1\n",
    "# prons"
   ]
  },
  {
   "cell_type": "code",
   "execution_count": null,
   "id": "eb09d65b-ca68-4352-ad7c-742eb74d56e7",
   "metadata": {
    "collapsed": true,
    "jupyter": {
     "outputs_hidden": true
    }
   },
   "outputs": [],
   "source": [
    "all_count = sum(prons.values())\n",
    "\n",
    "# выводим процент\n",
    "for key in prons:\n",
    "    if key == 'он(-а/-о)':\n",
    "        print(f'\"{key}\":\\t примерно {round(prons[key] / all_count * 100)} на 100 личных местоимений') # мне лень было заморачиваться\n",
    "    else:\n",
    "        print(f'\"{key}\":\\t\\t примерно {round(prons[key] / all_count * 100)} на 100 личных местоимений') \n",
    "# Итог: ну как будто в этом блоге больше \"нас\" и \"вас\", чем должно быть — что ж, бывает "
   ]
  }
 ],
 "metadata": {
  "kernelspec": {
   "display_name": "Python 3 (ipykernel)",
   "language": "python",
   "name": "python3"
  },
  "language_info": {
   "codemirror_mode": {
    "name": "ipython",
    "version": 3
   },
   "file_extension": ".py",
   "mimetype": "text/x-python",
   "name": "python",
   "nbconvert_exporter": "python",
   "pygments_lexer": "ipython3",
   "version": "3.11.4"
  }
 },
 "nbformat": 4,
 "nbformat_minor": 5
}
