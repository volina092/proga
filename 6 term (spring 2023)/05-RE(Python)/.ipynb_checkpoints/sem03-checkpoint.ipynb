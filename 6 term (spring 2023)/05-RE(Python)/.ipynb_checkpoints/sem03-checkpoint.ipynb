{
 "cells": [
  {
   "cell_type": "code",
   "execution_count": 2,
   "metadata": {},
   "outputs": [],
   "source": [
    "import re"
   ]
  },
  {
   "cell_type": "markdown",
   "metadata": {},
   "source": [
    "#### Задача 1.\n",
    "\n",
    "Найдите в тексте все телефонные номера. Номера могут быть в формате 0(000)00-00-00 или 0 000 00 00 00."
   ]
  },
  {
   "cell_type": "code",
   "execution_count": 16,
   "metadata": {},
   "outputs": [
    {
     "data": {
      "text/plain": [
       "['0(000)00-00-00', '0 000 00 00 00']"
      ]
     },
     "execution_count": 16,
     "metadata": {},
     "output_type": "execute_result"
    }
   ],
   "source": [
    "# text = '''Найдите в тексте все телефонные номера. Номера могут быть в формате 0(000)00-00-00 или 0 000 00 00 00.'''\n",
    "pattern = r'\\d[ \\(]?\\d{3}[ \\)]?(?:[ -]?\\d\\d){3}'\n",
    "re.findall(pattern, text)"
   ]
  },
  {
   "cell_type": "markdown",
   "metadata": {},
   "source": [
    "#### Задача 2.\n",
    "\n",
    "Программа ждет, что пользователь введет адрес электронной почты. Предполагается, что адрес может содержать только латинские буквы, цифры и нижнее подчеркивание, обязательно содержит @ и имя домена через точку. Других точек в адресе нет. Программа должна проверять, что пользователь ввел именно такой адрес, и предупреждать, если что-то неладно. Используйте fullmatch."
   ]
  },
  {
   "cell_type": "code",
   "execution_count": 26,
   "metadata": {},
   "outputs": [
    {
     "name": "stdin",
     "output_type": "stream",
     "text": [
      " ii\n"
     ]
    },
    {
     "name": "stdout",
     "output_type": "stream",
     "text": [
      "Что-то неладно\n"
     ]
    }
   ],
   "source": [
    "pattern = r'[a-zA-Z0-9_]+@[a-zA-Z0-9]+\\.[a-zA-Z0-9]+'\n",
    "if re.fullmatch(pattern, input()):\n",
    "    print(\"Отличный адрес\")\n",
    "else:\n",
    "    # Или оно должно писать, что именно неладно? Например, \"строка дефис\"?\n",
    "    # Я решила, что это сложно и не стала такое делать\n",
    "    print(\"Что-то неладно\")"
   ]
  },
  {
   "cell_type": "markdown",
   "metadata": {},
   "source": [
    "#### Задача 3.\n",
    "\n",
    "Цензура: в тексте встречается слово *война* и разные его вариации в падежах (и регистр тоже везде разный). Замените это слово по всему тексту на многоточие."
   ]
  },
  {
   "cell_type": "code",
   "execution_count": 32,
   "metadata": {},
   "outputs": [
    {
     "name": "stdout",
     "output_type": "stream",
     "text": [
      "... за ..., одна за одной, ... ни герой, ни ... рядовой — не воин, не труп, не военный тулуп\n",
      "войныыы войнамиии на войнее войнеее войнееееа\n",
      "... ... ...\n"
     ]
    }
   ],
   "source": [
    "text = '''война за войной, одна за одной, войне ни герой, ни войны рядовой — не воин, не труп, не военный тулуп\n",
    "войныыы войнамиии на войнее войнеее войнееееа\n",
    "ВОЙНА ВОЙНА ВОЙНА'''\n",
    "censor_pattern = r'\\bвойн(а(х|м[и]?)?|ы|у|ой|е)?\\b'\n",
    "\n",
    "print(re.sub(censor_pattern, '...', text, flags=re.IGNORECASE))"
   ]
  },
  {
   "cell_type": "markdown",
   "metadata": {},
   "source": [
    "#### Задача 4.\n",
    "\n",
    "У нас есть (любой) текст, в котором встречаются целые числа. Числа могут быть отрицательными, тогда между минусом и числом нет никакого другого знака. Напишите программу, которая все числа увеличит на единицу (причем 34 должно превратиться в 35, а -34 - в -33). Нельзя пользоваться циклами!"
   ]
  },
  {
   "cell_type": "code",
   "execution_count": 26,
   "metadata": {},
   "outputs": [
    {
     "name": "stdout",
     "output_type": "stream",
     "text": [
      "300001 секунд назад 556 жужалиц нашли друзей и теперь их 667, но скоро будет 2 или даже 1, но -55 не будет никогда\n"
     ]
    }
   ],
   "source": [
    "pattern = r'(-?[1-9][0-9]*|0)'\n",
    "print(re.sub(pattern, lambda x: str(int(x[0]) + 1), input()))"
   ]
  },
  {
   "cell_type": "markdown",
   "metadata": {
    "tags": []
   },
   "source": [
    "#### Задача 5. \n",
    "\n",
    "Найти ценники в формате \"10000 руб. 00 коп.\", при этом:\n",
    "- \"руб.\" и \"коп.\" не обязательно сокращены;\n",
    "- кол-во копеек не может быть трёхзначным;\n",
    "- кол-во рублей может быть нулевым, но не может быть некорректно записанным числом типа \"0123 рубля\")"
   ]
  },
  {
   "cell_type": "code",
   "execution_count": 6,
   "metadata": {},
   "outputs": [
    {
     "data": {
      "text/plain": [
       "['15 руб. 98 копеек', '0 р. 19 коп.', '93 рубля 00 копеек']"
      ]
     },
     "execution_count": 6,
     "metadata": {},
     "output_type": "execute_result"
    }
   ],
   "source": [
    "pattern = r'(?:0|[1-9]\\d*) (?:рубл(?:ь|я|ей)|руб\\.?|р\\.?) (?:00?|[1-9][0-9]?) (?:копе(?:йк[аи]|ек)|коп\\.?|к\\.?)'\n",
    "# text = '15 руб. 98 копеек; 0 р. 19 коп., 93 рубля 00 копеек, 91руб. 000 коп.'\n",
    "re.findall(pattern, input())"
   ]
  },
  {
   "cell_type": "markdown",
   "metadata": {},
   "source": [
    "#### Задача 6.\n",
    "\n",
    "Некоторые любят выделять особо важные места в тексте с помощью нижнего подчёркивания, например: \"...здесь \\_очень важно\\_ отметить...\" (дело в том, что нижние подчеркивания в некоторых редакторах автоматически превращаются в курсив).\n",
    "\n",
    "Ищем такие выделения, но не длиннее 5 слов."
   ]
  },
  {
   "cell_type": "code",
   "execution_count": 9,
   "metadata": {},
   "outputs": [
    {
     "name": "stdin",
     "output_type": "stream",
     "text": [
      " Некоторые любят выделять особо важные места в тексте с помощью нижнего подчёркивания, например: \"...здесь _очень важно_ отметить...\" (дело в том, что нижние подчеркивания в некоторых редакторах автоматически превращаются в курсив).\n"
     ]
    },
    {
     "data": {
      "text/plain": [
       "['_очень важно_']"
      ]
     },
     "execution_count": 9,
     "metadata": {},
     "output_type": "execute_result"
    }
   ],
   "source": [
    "pattern = r'_(?:\\S+\\s){0,4}\\S+_'\n",
    "re.findall(pattern, input())"
   ]
  },
  {
   "cell_type": "markdown",
   "metadata": {},
   "source": [
    "#### Задача 7.\n",
    "\n",
    "Найти в тексте все куски, которые взяты в круглые скобки. Считаем, что вложенных скобок нет."
   ]
  },
  {
   "cell_type": "code",
   "execution_count": 8,
   "metadata": {},
   "outputs": [
    {
     "name": "stdin",
     "output_type": "stream",
     "text": [
      " lkdsfg (xflj) sdkfhg (sdfgkshdf)\n"
     ]
    },
    {
     "data": {
      "text/plain": [
       "['(xflj)', '(sdfgkshdf)']"
      ]
     },
     "execution_count": 8,
     "metadata": {},
     "output_type": "execute_result"
    }
   ],
   "source": [
    "pattern = r'(?<=\\().+?(?=\\))'\n",
    "re.findall(pattern, input())"
   ]
  },
  {
   "cell_type": "markdown",
   "metadata": {},
   "source": [
    "#### Задача 8. \n",
    "\n",
    "В текстовом файле находятся пути к другим файлам. Каждый путь устроен таким образом, что у него обязательно есть расширение через точку, название собственно файла и как минимум папка, в которой он находится, например:\n",
    "\n",
    "    myfolder/myfile.txt\n",
    "    C:\\Python\\files\\script.py\n",
    "    ...\n",
    "    \n",
    "Обратите внимание, что слеш может быть в любую сторону (в Windows он обратный, в Unix-системах прямой). Напишите такое регулярное выражение, которое будет в поиске re.findall возвращать кортежи вида ('все, что слева от имени файла', 'имя файла', 'расширение'). Для примеров:\n",
    "\n",
    "    ('myfolder', 'myfile', 'txt')\n",
    "    ('C:\\Python\\files', 'script', 'py')\n",
    "    "
   ]
  },
  {
   "cell_type": "code",
   "execution_count": 18,
   "metadata": {},
   "outputs": [
    {
     "name": "stdin",
     "output_type": "stream",
     "text": [
      " C:\\Python\\files\\script.py\n"
     ]
    },
    {
     "data": {
      "text/plain": [
       "[('C:\\\\Python\\\\files', 'script', 'py')]"
      ]
     },
     "execution_count": 18,
     "metadata": {},
     "output_type": "execute_result"
    }
   ],
   "source": [
    "pattern = r'(.+)[\\\\\\/]+(.+)\\.(\\S+)'\n",
    "re.findall(pattern, input())\n",
    "# Там получаются \\\\ вместо \\ в результате, но как это поправить именно внутри регулярки я не знаю :("
   ]
  }
 ],
 "metadata": {
  "kernelspec": {
   "display_name": "Python 3",
   "language": "python",
   "name": "python3"
  },
  "language_info": {
   "codemirror_mode": {
    "name": "ipython",
    "version": 3
   },
   "file_extension": ".py",
   "mimetype": "text/x-python",
   "name": "python",
   "nbconvert_exporter": "python",
   "pygments_lexer": "ipython3",
   "version": "3.7.2"
  }
 },
 "nbformat": 4,
 "nbformat_minor": 5
}
